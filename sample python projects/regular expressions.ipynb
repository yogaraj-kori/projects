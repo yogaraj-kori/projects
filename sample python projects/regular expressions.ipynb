{
 "cells": [
  {
   "cell_type": "code",
   "execution_count": 1,
   "id": "022465a5-b975-4ab2-b5f2-ad98ffc25c68",
   "metadata": {},
   "outputs": [],
   "source": [
    "##importing the necessary headers\n",
    "import xml.etree.ElementTree as ET\n",
    "import csv\n",
    "import numpy as np\n",
    "import re"
   ]
  },
  {
   "cell_type": "code",
   "execution_count": 5,
   "id": "6e5de171-a4aa-4ded-a1bd-2b6c9ae5dc68",
   "metadata": {},
   "outputs": [
    {
     "name": "stdout",
     "output_type": "stream",
     "text": [
      "GPT don't chat\n",
      "{To} {me} {or} yourself\n",
      "Unless {it} {is} noon\n",
      "{On} the Moon.\n",
      "\n",
      "\n",
      "{GPT} don't chat\n",
      "{To }me or yourself\n",
      "{Unl}ess it is noon\n",
      "{On }the Moon.\n",
      "\n",
      "\n"
     ]
    }
   ],
   "source": [
    "def re_show(pat, s):\n",
    "    print(re.compile(pat, re.M).sub(\"{\\g<0>}\", s.rstrip()))\n",
    "    print(\"\\n\")\n",
    "s = \"\"\"GPT don't chat\n",
    "To me or yourself\n",
    "Unless it is noon\n",
    "On the Moon.\"\"\"\n",
    "##question 3.a\n",
    "myRegexA = r\"\\b\\w{2}\\b\"\n",
    "re_show(myRegexA, s)\n",
    "##question 3.b\n",
    "myRegexB = r\"^.{0,3}\"\n",
    "re_show(myRegexB, s)"
   ]
  },
  {
   "cell_type": "code",
   "execution_count": null,
   "id": "3a740eea-be8e-4c8c-acd9-e313d739f9c6",
   "metadata": {},
   "outputs": [],
   "source": []
  }
 ],
 "metadata": {
  "kernelspec": {
   "display_name": "Python 3 (ipykernel)",
   "language": "python",
   "name": "python3"
  },
  "language_info": {
   "codemirror_mode": {
    "name": "ipython",
    "version": 3
   },
   "file_extension": ".py",
   "mimetype": "text/x-python",
   "name": "python",
   "nbconvert_exporter": "python",
   "pygments_lexer": "ipython3",
   "version": "3.11.7"
  }
 },
 "nbformat": 4,
 "nbformat_minor": 5
}
