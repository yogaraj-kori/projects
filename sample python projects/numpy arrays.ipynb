{
 "cells": [
  {
   "cell_type": "code",
   "execution_count": 1,
   "id": "022465a5-b975-4ab2-b5f2-ad98ffc25c68",
   "metadata": {},
   "outputs": [],
   "source": [
    "##importing the necessary headers\n",
    "import xml.etree.ElementTree as ET\n",
    "import csv\n",
    "import numpy as np\n",
    "import re"
   ]
  },
  {
   "cell_type": "code",
   "execution_count": 4,
   "id": "6e5de171-a4aa-4ded-a1bd-2b6c9ae5dc68",
   "metadata": {},
   "outputs": [
    {
     "name": "stdout",
     "output_type": "stream",
     "text": [
      "sum total of first 5 rows is 130890\n",
      "sum total of 5th and 10th row is 23174\n",
      "sum of row  1  is  26574\n",
      "sum of row  2  is  26981\n",
      "sum of row  3  is  28876\n",
      "sum of row  4  is  25285\n",
      "sum of row  5  is  23174\n",
      "sum of row  6  is  22397\n",
      "sum of row  7  is  22615\n",
      "sum of row  8  is  20643\n",
      "sum of row  9  is  23299\n",
      "sum of row  10  is  25134\n"
     ]
    }
   ],
   "source": [
    "##creating a array of 500 random values\n",
    "##question 2.a\n",
    "arr2d=np.random.randint(1000,size=(10,50))\n",
    "\n",
    "##initializing the variables\n",
    "sum_total=0\n",
    "sum_total_5_and_10=0\n",
    "##getting the sum of 10 rows as well as getting sum of 5th and 10th row\n",
    "for i in range(0,5):\n",
    "    for j in range(0,50):\n",
    "        sum_total+=arr2d[i][j]\n",
    "        if i==4 or i==9:\n",
    "            sum_total_5_and_10+=arr2d[i][j]\n",
    "print(\"sum total of first 5 rows is\",sum_total)\n",
    "\n",
    "print(\"sum total of 5th and 10th row is\",sum_total_5_and_10)\n",
    "\n",
    "##question 2.b\n",
    "##splitting the array into 10 different rows\n",
    "split_arr=np.array_split(arr2d,10)\n",
    "\n",
    "##getting the sum of each row split\n",
    "for i in range(0,10):\n",
    "    print(\"sum of row \",i+1,\" is \",split_arr[i].sum())"
   ]
  },
  {
   "cell_type": "code",
   "execution_count": null,
   "id": "3a740eea-be8e-4c8c-acd9-e313d739f9c6",
   "metadata": {},
   "outputs": [],
   "source": []
  }
 ],
 "metadata": {
  "kernelspec": {
   "display_name": "Python 3 (ipykernel)",
   "language": "python",
   "name": "python3"
  },
  "language_info": {
   "codemirror_mode": {
    "name": "ipython",
    "version": 3
   },
   "file_extension": ".py",
   "mimetype": "text/x-python",
   "name": "python",
   "nbconvert_exporter": "python",
   "pygments_lexer": "ipython3",
   "version": "3.11.7"
  }
 },
 "nbformat": 4,
 "nbformat_minor": 5
}
